{
 "cells": [
  {
   "cell_type": "markdown",
   "metadata": {},
   "source": [
    "# ATOC data parser\n",
    "\n",
    "Using the data from the Rail Delivery Group at [data.atoc.org](data.atoc.org), this parses ATOC data in an easy-to-use format. Be sure to read through the documentation in order to understand what the data represent\n",
    "\n",
    "This module is a Python version of [Michael Czolko's ATOC Feed Parser](https://github.com/mCzolko/atoc-feed-parse), originally written in PHP. It works with the Timetable feed and the Fares feed. A new parser has been added for the London Terminals Feed.\n",
    "\n",
    "The methods are:\n",
    "- `atoc.parse_file()` - Parses Timetable or Fares data, with a passed-in file path.\n",
    "- `atoc.parse_files()` - Parses Timetable or Fares data, with a passed-in list of file paths.\n",
    "- `atoc.parse_folder()` - Parses Timetable or Fares data, with a passed-in folder path.\n",
    "- `atoc.parse_file_df()` - Like `atoc.parse_file()`, but returns a Pandas DataFrame.\n",
    "- `atoc.parse_files_df()` - Like `atoc.parse_files()`, but returns a dictionary of Pandas DataFrames.\n",
    "- `atoc.parse_folder_df()` - Like `atoc.parse_folder()`, but returns a dictionary of Pandas DataFrames.\n",
    "- `atoc.parse_london_terminals_from_file()` - Parses the London Terminals XML (from the filename).\n",
    "- `atoc.parse_london_terminals_from_string()` - Parses the London Terminals XML (from a string).\n",
    "\n",
    "Example usage:\n",
    "```\n",
    "fares_folder = '~/RJFAF464'\n",
    "times_folder = '~/ttis641'\n",
    "terminals_filepath = '~/ltm_v1.4_200307.xml'\n",
    "\n",
    "fares = atoc.parse_folder_df(fares_folder)\n",
    "times = atoc.parse_folder_df(times_folder)\n",
    "london_terminals = atoc.parse_london_terminals_from_file(terminals_filepath)\n",
    "```"
   ]
  },
  {
   "cell_type": "code",
   "execution_count": 1,
   "metadata": {},
   "outputs": [],
   "source": [
    "import os\n",
    "import pandas as pd\n",
    "import atoc"
   ]
  },
  {
   "cell_type": "code",
   "execution_count": 2,
   "metadata": {},
   "outputs": [],
   "source": [
    "fares_folder = 'C:/Users/pashri/Downloads/RJFAF464'\n",
    "times_folder = 'C:/Users/pashri/Downloads/ttis641'\n",
    "terminals_filepath = 'C:/Users/pashri/Downloads/ltm_v1.4_200307.xml/ltm_v1.4_200307.xml'"
   ]
  },
  {
   "cell_type": "code",
   "execution_count": 3,
   "metadata": {},
   "outputs": [],
   "source": [
    "fares = atoc.parse_folder_df(fares_folder)"
   ]
  },
  {
   "cell_type": "code",
   "execution_count": 4,
   "metadata": {},
   "outputs": [],
   "source": [
    "times = atoc.parse_folder_df(times_folder)"
   ]
  },
  {
   "cell_type": "code",
   "execution_count": 5,
   "metadata": {},
   "outputs": [],
   "source": [
    "london_terminals = atoc.parse_london_terminals_from_file(terminals_filepath)"
   ]
  },
  {
   "cell_type": "code",
   "execution_count": null,
   "metadata": {},
   "outputs": [],
   "source": []
  }
 ],
 "metadata": {
  "kernelspec": {
   "display_name": "Python 3",
   "language": "python",
   "name": "python3"
  },
  "language_info": {
   "codemirror_mode": {
    "name": "ipython",
    "version": 3
   },
   "file_extension": ".py",
   "mimetype": "text/x-python",
   "name": "python",
   "nbconvert_exporter": "python",
   "pygments_lexer": "ipython3",
   "version": "3.7.6"
  }
 },
 "nbformat": 4,
 "nbformat_minor": 4
}
